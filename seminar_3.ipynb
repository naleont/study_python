{
 "cells": [
  {
   "cell_type": "code",
   "execution_count": 5,
   "id": "6b986f6f",
   "metadata": {},
   "outputs": [
    {
     "name": "stdout",
     "output_type": "stream",
     "text": [
      "5\n"
     ]
    }
   ],
   "source": [
    "i = int(input())"
   ]
  },
  {
   "cell_type": "code",
   "execution_count": 11,
   "id": "4a406169",
   "metadata": {},
   "outputs": [
    {
     "name": "stdout",
     "output_type": "stream",
     "text": [
      "False\n"
     ]
    }
   ],
   "source": [
    "if i > 6:\n",
    "    print('True')\n",
    "else:\n",
    "    print('False')"
   ]
  },
  {
   "cell_type": "code",
   "execution_count": 12,
   "id": "b1de7637",
   "metadata": {},
   "outputs": [
    {
     "name": "stdout",
     "output_type": "stream",
     "text": [
      "False\n"
     ]
    }
   ],
   "source": [
    "if i > 6:\n",
    "    print('True')\n",
    "print('False')"
   ]
  },
  {
   "cell_type": "code",
   "execution_count": 19,
   "id": "c4d9bb80",
   "metadata": {},
   "outputs": [],
   "source": [
    "i = -1"
   ]
  },
  {
   "cell_type": "code",
   "execution_count": 21,
   "id": "c5a09f10",
   "metadata": {},
   "outputs": [
    {
     "name": "stdout",
     "output_type": "stream",
     "text": [
      "Не вышкинская оценика\n"
     ]
    }
   ],
   "source": [
    "if (i >= 0) & (i <=10):\n",
    "    if i < 4:\n",
    "        print('Неудовлетворительно')\n",
    "    elif i < 6:\n",
    "        print('Удовлетворительно')\n",
    "    elif i < 8:\n",
    "        print('Хорошо')\n",
    "    else:\n",
    "        print('Отлично')\n",
    "else:\n",
    "    print('Не вышкинская оценика')"
   ]
  },
  {
   "cell_type": "code",
   "execution_count": 22,
   "id": "54ea9d4d",
   "metadata": {},
   "outputs": [
    {
     "name": "stdout",
     "output_type": "stream",
     "text": [
      "Не вышкинская оценика\n"
     ]
    }
   ],
   "source": [
    "if i in range(0,11):\n",
    "    if i < 4:\n",
    "        print('Неудовлетворительно')\n",
    "    elif i < 6:\n",
    "        print('Удовлетворительно')\n",
    "    elif i < 8:\n",
    "        print('Хорошо')\n",
    "    else:\n",
    "        print('Отлично')\n",
    "else:\n",
    "    print('Не вышкинская оценика')"
   ]
  },
  {
   "cell_type": "code",
   "execution_count": 34,
   "id": "16123bb8",
   "metadata": {},
   "outputs": [],
   "source": [
    "i = 10"
   ]
  },
  {
   "cell_type": "code",
   "execution_count": 35,
   "id": "61bc2455",
   "metadata": {},
   "outputs": [
    {
     "name": "stdout",
     "output_type": "stream",
     "text": [
      "на 2\n"
     ]
    }
   ],
   "source": [
    "if i % 2 == 0:\n",
    "    print('на 2')\n",
    "elif i % 5 == 0:\n",
    "    print('на 5')"
   ]
  },
  {
   "cell_type": "code",
   "execution_count": 36,
   "id": "f7a06bf9",
   "metadata": {},
   "outputs": [
    {
     "name": "stdout",
     "output_type": "stream",
     "text": [
      "на 2\n",
      "на 5\n"
     ]
    }
   ],
   "source": [
    "if i % 2 == 0:\n",
    "    print('на 2')\n",
    "if i % 5 == 0:\n",
    "    print('на 5')"
   ]
  },
  {
   "cell_type": "markdown",
   "id": "ccbe9e77",
   "metadata": {},
   "source": [
    "Напишите программу, которая на вход получит 1 целое число - рост человека и строку либо M либо F, на выход выведет выше или ниже человек среднего роста (предположим, что для М это 180, для F 150)"
   ]
  },
  {
   "cell_type": "code",
   "execution_count": 38,
   "id": "cab54e8b",
   "metadata": {},
   "outputs": [
    {
     "name": "stdout",
     "output_type": "stream",
     "text": [
      "11\n",
      "1\n",
      "неверно введено значение\n"
     ]
    }
   ],
   "source": [
    "h = int(input())\n",
    "s = input()\n",
    "\n",
    "if h > 0:\n",
    "    if s == 'M':\n",
    "        if h > 180:\n",
    "            print('выше среднего')\n",
    "        else:\n",
    "            print('ниже среднего')\n",
    "    elif s == 'F':\n",
    "        if h > 150:\n",
    "            print('выше среднего')\n",
    "        else:\n",
    "            print('ниже среднего')\n",
    "    else:\n",
    "        print('неверно введено значение')\n",
    "else:\n",
    "    print('Людей с таким ростом не существует')"
   ]
  },
  {
   "cell_type": "markdown",
   "id": "7592a4f1",
   "metadata": {},
   "source": [
    "На вход 3 числа, выведите среднее из упорядоченного ряда (1 2 6 -> 2)"
   ]
  },
  {
   "cell_type": "code",
   "execution_count": 42,
   "id": "a6968f17",
   "metadata": {},
   "outputs": [
    {
     "name": "stdout",
     "output_type": "stream",
     "text": [
      "6\n",
      "2\n",
      "6\n",
      "Среднее: 6\n"
     ]
    }
   ],
   "source": [
    "a = int(input())\n",
    "b = int(input())\n",
    "c = int(input())\n",
    "\n",
    "if b < a < c or c < a < b:\n",
    "    print('Среднее:', a)\n",
    "elif a < b < c or c < b < a:\n",
    "    print('Среднее:', b)\n",
    "else:\n",
    "    print('Среднее:', c)"
   ]
  },
  {
   "cell_type": "markdown",
   "id": "ed769d21",
   "metadata": {},
   "source": [
    "На вход подается год, определить является ли он високосным"
   ]
  },
  {
   "cell_type": "code",
   "execution_count": 44,
   "id": "c8488ea7",
   "metadata": {},
   "outputs": [
    {
     "name": "stdout",
     "output_type": "stream",
     "text": [
      "2020\n",
      "yes\n"
     ]
    }
   ],
   "source": [
    "y = int(input())\n",
    "if y % 4 > 0:\n",
    "    print('no')\n",
    "else:\n",
    "    if y % 100 == 0:\n",
    "        if y % 400 == 0:\n",
    "            print('yes')\n",
    "        else:\n",
    "            print('no')\n",
    "    else:\n",
    "        print('yes')"
   ]
  },
  {
   "cell_type": "markdown",
   "id": "861c40c5",
   "metadata": {},
   "source": [
    "На вход получаем цвет (красный желтый или зеленый)\n",
    "На выход можно ли двигаться (да, нет, заканчивать движение)"
   ]
  },
  {
   "cell_type": "code",
   "execution_count": 45,
   "id": "f257315a",
   "metadata": {},
   "outputs": [
    {
     "name": "stdout",
     "output_type": "stream",
     "text": [
      "red\n",
      "stop\n"
     ]
    }
   ],
   "source": [
    "c = input()\n",
    "if c == 'red':\n",
    "    print('stop')\n",
    "elif c == 'yellow':\n",
    "    print('wait')\n",
    "elif c == 'green':\n",
    "    print('go')\n",
    "else:\n",
    "    print('input_error')"
   ]
  },
  {
   "cell_type": "code",
   "execution_count": null,
   "id": "39b88eae",
   "metadata": {},
   "outputs": [],
   "source": []
  },
  {
   "cell_type": "code",
   "execution_count": null,
   "id": "fdad6b5d",
   "metadata": {},
   "outputs": [],
   "source": []
  }
 ],
 "metadata": {
  "kernelspec": {
   "display_name": "Python 3 (ipykernel)",
   "language": "python",
   "name": "python3"
  },
  "language_info": {
   "codemirror_mode": {
    "name": "ipython",
    "version": 3
   },
   "file_extension": ".py",
   "mimetype": "text/x-python",
   "name": "python",
   "nbconvert_exporter": "python",
   "pygments_lexer": "ipython3",
   "version": "3.10.0"
  }
 },
 "nbformat": 4,
 "nbformat_minor": 5
}

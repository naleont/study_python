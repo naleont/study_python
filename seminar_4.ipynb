{
 "cells": [
  {
   "cell_type": "markdown",
   "id": "7ee54ce2",
   "metadata": {},
   "source": [
    "Появился бот для домашек 🎉🎉🎉 - https://t.me/pylindabot @pylindabot. В нем лежит третья домашка и скоро появится четвертая\n",
    "<hr>"
   ]
  },
  {
   "cell_type": "markdown",
   "id": "6f3e5155",
   "metadata": {},
   "source": [
    "Появилась ведомость оценок - https://clck.ru/YXEcm\n",
    "<img src='http://disk.yandex.net/qr/?clean=1&text=https://clck.ru/YXEcm'/>"
   ]
  },
  {
   "cell_type": "markdown",
   "id": "e11ec8a6",
   "metadata": {},
   "source": [
    "# Циклы `for`, `while`"
   ]
  },
  {
   "cell_type": "markdown",
   "id": "50e21e66",
   "metadata": {},
   "source": [
    "## 1 &emsp; Зачем нужны циклы?\n",
    "\n",
    "Основная идея цикла — многократное повторение одного и того же действия или набора действий.\n",
    "\n",
    "В Python есть два основных цикла — `for` и `while`."
   ]
  },
  {
   "cell_type": "markdown",
   "id": "767fc5d4",
   "metadata": {},
   "source": [
    "## 2 &emsp; Цикл `for`\n",
    "\n",
    "`for` — цикл-перебор. Его логика такая:\n",
    "\n",
    "```python\n",
    "for переменная_перебора in элемент_по_которому_можно_ходить_или_range:\n",
    "    # код цикла\n",
    "    # ещё код цикла\n",
    "    # и ещё какой-то код цикла\n",
    "```\n",
    "\n",
    "Например, такой код:\n",
    "\n",
    "```python\n",
    "nums = [1,2,3,4,5]\n",
    "for num in nums: \n",
    "    print(num)\n",
    "```\n",
    "\n",
    "Выдаст такой результат:\n",
    "\n",
    "```bash\n",
    "1\n",
    "2\n",
    "3\n",
    "4\n",
    "5\n",
    "```\n",
    "\n",
    "Каждый объект из списка nums по очереди складывался в переменную num."
   ]
  },
  {
   "cell_type": "markdown",
   "id": "8c6e1eca",
   "metadata": {},
   "source": [
    "### 2.1 &emsp; `for` со списками\n",
    "\n",
    "Например, можем по очереди перебирать элементы списков:"
   ]
  },
  {
   "cell_type": "code",
   "execution_count": 2,
   "id": "3285baa3",
   "metadata": {},
   "outputs": [
    {
     "name": "stdout",
     "output_type": "stream",
     "text": [
      "ich is not a noun\n",
      "studiere is not a noun\n",
      "Linguistik is a noun\n"
     ]
    }
   ],
   "source": [
    "for german_word in [\"ich\", \"studiere\", \"Linguistik\"]:\n",
    "    if german_word[0].isupper():\n",
    "        print(f\"{german_word} is a noun\")\n",
    "    else:\n",
    "        print(f\"{german_word} is not a noun\")"
   ]
  },
  {
   "cell_type": "markdown",
   "id": "89ebaa0f",
   "metadata": {},
   "source": [
    "### 2.2 &emsp; `for` со строками\n",
    "\n",
    "Со строками, как и со списками, мы можем обращаться по индексу. Цикл for переберёт строку посимвольно:"
   ]
  },
  {
   "cell_type": "code",
   "execution_count": 6,
   "id": "618058eb",
   "metadata": {},
   "outputs": [
    {
     "name": "stdout",
     "output_type": "stream",
     "text": [
      "R is consonant\n",
      "e is vowel\n",
      "c is consonant\n",
      "h is consonant\n",
      "t is consonant\n",
      "s is consonant\n",
      "s is consonant\n",
      "c is consonant\n",
      "h is consonant\n",
      "u is vowel\n",
      "t is consonant\n",
      "z is consonant\n",
      "v is consonant\n",
      "e is vowel\n",
      "r is consonant\n",
      "s is consonant\n",
      "i is vowel\n",
      "c is consonant\n",
      "h is consonant\n",
      "e is vowel\n",
      "r is consonant\n",
      "u is vowel\n",
      "n is consonant\n",
      "g is consonant\n",
      "s is consonant\n",
      "g is consonant\n",
      "e is vowel\n",
      "s is consonant\n",
      "e is vowel\n",
      "l is consonant\n",
      "l is consonant\n",
      "s is consonant\n",
      "c is consonant\n",
      "h is consonant\n",
      "a is vowel\n",
      "f is consonant\n",
      "t is consonant\n",
      "e is vowel\n",
      "n is consonant\n"
     ]
    }
   ],
   "source": [
    "for letter in \"Rechtsschutzversicherungsgesellschaften\":\n",
    "    if letter in \"aeiouäöü\" or letter in \"aeiouäöü\".upper():\n",
    "        print(f\"{letter} is vowel\")\n",
    "    else:\n",
    "        print(f\"{letter} is consonant\")"
   ]
  },
  {
   "cell_type": "markdown",
   "id": "db576fb5",
   "metadata": {},
   "source": [
    "### 2.3 &emsp; `for` и функция `range()`\n",
    "\n",
    "for часто совмещается с функцией range(), которая задаёт определённую _последовательность_ чисел. Вспомним, как задаются срезы строк: `строка[начало:конец:шаг]` — здесь та же самая логика:\n",
    "\n",
    "Такой код:\n",
    "\n",
    "```python\n",
    "for i in range(1, 11, 1):\n",
    "    print(i)\n",
    "```\n",
    "\n",
    "Даст следующий вывод:\n",
    "```bash\n",
    "1\n",
    "2\n",
    "3\n",
    "4\n",
    "5\n",
    "6\n",
    "7\n",
    "8\n",
    "9\n",
    "10\n",
    "```\n",
    "\n",
    "---\n",
    "\n",
    "Как и со срезами, у `range()` есть аргументы по умолчанию:\n",
    "\n",
    "* start = 0\n",
    "* step = 1\n",
    "\n",
    "Поэтому единственный _необходимый_ аргумент — это окончание последовательности.\n",
    "\n",
    "Такой ввод:\n",
    "\n",
    "```python3\n",
    "for i in range(3):\n",
    "    print(\"WARNING\")\n",
    "```\n",
    "выведет слово `WARNING` 3 раза."
   ]
  },
  {
   "cell_type": "code",
   "execution_count": 5,
   "id": "bf4d99f6",
   "metadata": {},
   "outputs": [
    {
     "name": "stdout",
     "output_type": "stream",
     "text": [
      "3\n",
      "python\n",
      "cpp\n",
      "java\n"
     ]
    }
   ],
   "source": [
    "# пример: сначала вводится число слов, потом сами слова\n",
    "\n",
    "words_num = int(input())\n",
    "words_input = []\n",
    "\n",
    "for i in range(words_num):\n",
    "    words_input.append(input())"
   ]
  },
  {
   "cell_type": "code",
   "execution_count": 6,
   "id": "51d0b9a7",
   "metadata": {},
   "outputs": [
    {
     "data": {
      "text/plain": [
       "['python', 'cpp', 'java']"
      ]
     },
     "execution_count": 6,
     "metadata": {},
     "output_type": "execute_result"
    }
   ],
   "source": [
    "words_input"
   ]
  },
  {
   "cell_type": "code",
   "execution_count": 7,
   "id": "3bb81b11",
   "metadata": {},
   "outputs": [
    {
     "name": "stdout",
     "output_type": "stream",
     "text": [
      "python is a cool programming language!\n",
      "cpp is a tiny bit less cool programming language!\n",
      "java is a tiny bit less cool programming language!\n"
     ]
    }
   ],
   "source": [
    "# переберём всё по рецепту выше\n",
    "\n",
    "for word in words_input:\n",
    "    if word == \"python\":\n",
    "        print(f\"{word} is a cool programming language!\")\n",
    "    else:\n",
    "        print(f\"{word} is a tiny bit less cool programming language!\")"
   ]
  },
  {
   "cell_type": "markdown",
   "id": "2983e82b",
   "metadata": {},
   "source": [
    "## 3 &emsp; Цикл `while`\n",
    "\n",
    "`while` — это цикл, который, в отличие от `for`, завязан на выполнении какого-то логического условия. Так выглядит его логика:\n",
    "\n",
    "\n",
    "```python\n",
    "while условие_цикла (and условие_цикла2 and условие_цикла3…):\n",
    "    # тело цикла\n",
    "    # ещё тело цикла\n",
    "    # и ещё тело цикла…\n",
    "```\n",
    "\n",
    "**NB:** с циклом while нужно особенно внимательно следить, чтобы рано или поздно условие цикла приняло значение False, и условие цикла закончилось! Иначе цикл будет бесконечен и программа никогда не закончится (и заканчивать её придётся, нажимая Ctrl+C).\n",
    "\n",
    "#### Пример\n",
    "\n",
    "Ввод:\n",
    "```python\n",
    "i = 1\n",
    "while i < 6:\n",
    "  print(i)\n",
    "  i += 1\n",
    "```\n",
    "\n",
    "Вывод:\n",
    "```bash\n",
    "1\n",
    "2\n",
    "3\n",
    "4\n",
    "5\n",
    "```"
   ]
  },
  {
   "cell_type": "code",
   "execution_count": 10,
   "id": "92a2c433",
   "metadata": {},
   "outputs": [
    {
     "name": "stdout",
     "output_type": "stream",
     "text": [
      "hello\n",
      "HELLO\n",
      "it's me\n",
      "IT'S ME\n",
      "i was wondering if after all these years you'd like to meet\n",
      "I WAS WONDERING IF AFTER ALL THESE YEARS YOU'D LIKE TO MEET\n",
      "stop\n"
     ]
    }
   ],
   "source": [
    "# пример: вводим слова, пока не получим слово \"stop\"\n",
    "\n",
    "stop_input = False\n",
    "while not stop_input:\n",
    "    word_from_user = input()\n",
    "    # тут мы заканчиваем цикл\n",
    "    if word_from_user == \"stop\":\n",
    "        stop_input = True \n",
    "    # а если это не stop, то делаем что-то ещё\n",
    "    else:\n",
    "        print(word_from_user.upper())"
   ]
  },
  {
   "cell_type": "markdown",
   "id": "ca1928e4",
   "metadata": {},
   "source": [
    "### 3.1 &emsp; `break`\n",
    "\n",
    "Иногда для читаемости кода вместо того, чтобы вставлять лишнее условие, там, где нужно закончить цикл, вставляют слово `break` — по достижении этой команды цикл сразу прекращается:"
   ]
  },
  {
   "cell_type": "code",
   "execution_count": 11,
   "id": "db9b94a6",
   "metadata": {},
   "outputs": [
    {
     "name": "stdout",
     "output_type": "stream",
     "text": [
      "hello\n",
      "HELLO\n",
      "it's me\n",
      "IT'S ME\n",
      "i was wondering if after all these years you'd like to meet\n",
      "I WAS WONDERING IF AFTER ALL THESE YEARS YOU'D LIKE TO MEET\n",
      "stop\n"
     ]
    }
   ],
   "source": [
    "# то же самое, но с break\n",
    "\n",
    "while True:\n",
    "    word_from_user = input()\n",
    "    # тут мы заканчиваем цикл\n",
    "    if word_from_user == \"stop\":\n",
    "        break\n",
    "    # а если это не stop, то делаем что-то ещё\n",
    "    else:\n",
    "        print(word_from_user.upper())"
   ]
  },
  {
   "cell_type": "code",
   "execution_count": null,
   "id": "25112de9",
   "metadata": {},
   "outputs": [],
   "source": [
    "words_num = int(input())\n",
    "words_input = []\n",
    "\n",
    "for i in range(words_num):\n",
    "    words_input.append(input())"
   ]
  },
  {
   "cell_type": "markdown",
   "id": "6d9f365d",
   "metadata": {},
   "source": [
    "## 4 &emsp; Задачи"
   ]
  },
  {
   "cell_type": "markdown",
   "id": "19e607bb",
   "metadata": {},
   "source": [
    "### 4.1 &emsp; Количество чётных\n",
    "\n",
    "Определите количество чётных элементов в последовательности, завершающейся числом 0. 0 не считается частью последовательности!\n",
    "\n",
    "_Ввод:_\n",
    "\n",
    "```bash\n",
    "1\n",
    "2\n",
    "3\n",
    "4\n",
    "5\n",
    "6\n",
    "7\n",
    "8\n",
    "9\n",
    "0\n",
    "```\n",
    "\n",
    "_Вывод:_\n",
    "\n",
    "```bash\n",
    "4\n",
    "```"
   ]
  },
  {
   "cell_type": "code",
   "execution_count": 8,
   "id": "fd9782bf",
   "metadata": {},
   "outputs": [
    {
     "name": "stdout",
     "output_type": "stream",
     "text": [
      "1\n",
      "2\n",
      "3\n",
      "4\n",
      "5\n",
      "6\n",
      "7\n",
      "8\n",
      "9\n",
      "0\n",
      "4\n"
     ]
    }
   ],
   "source": [
    "num_even = -1\n",
    "n = -1\n",
    "while n != 0:\n",
    "    n = int(input())\n",
    "    if n % 2 == 0:\n",
    "        num_even += 1\n",
    "print(num_even)"
   ]
  },
  {
   "cell_type": "markdown",
   "id": "7e5cbe48",
   "metadata": {},
   "source": [
    "### 4.2 &emsp; Перевёртыш\n",
    "\n",
    "Вводится слово. Каждую гласную запишите заглавной буквой, каждую согласную — строчной.\n",
    "\n",
    "_Ввод:_\n",
    "\n",
    "```bash\n",
    "котичек\n",
    "```\n",
    "\n",
    "_Вывод:_\n",
    "\n",
    "```bash\n",
    "кОтИчЕк\n",
    "```"
   ]
  },
  {
   "cell_type": "code",
   "execution_count": 9,
   "id": "7bc9079e",
   "metadata": {},
   "outputs": [
    {
     "name": "stdout",
     "output_type": "stream",
     "text": [
      "котичек\n",
      "кОтИчЕк\n"
     ]
    }
   ],
   "source": [
    "inp_str = str(input()).lower()\n",
    "out_str = ''\n",
    "\n",
    "for i in inp_str:\n",
    "    if i in 'аоуиыеюё':\n",
    "        out_str += i.upper()\n",
    "    else:\n",
    "        out_str += i\n",
    "print(out_str)"
   ]
  },
  {
   "cell_type": "code",
   "execution_count": null,
   "id": "ed38d0ba",
   "metadata": {},
   "outputs": [],
   "source": []
  },
  {
   "cell_type": "code",
   "execution_count": null,
   "id": "f29f7e7a",
   "metadata": {},
   "outputs": [],
   "source": []
  },
  {
   "cell_type": "code",
   "execution_count": null,
   "id": "c52195ad",
   "metadata": {},
   "outputs": [],
   "source": []
  },
  {
   "cell_type": "code",
   "execution_count": null,
   "id": "138bfcc7",
   "metadata": {},
   "outputs": [],
   "source": []
  },
  {
   "cell_type": "code",
   "execution_count": null,
   "id": "bfb9949f",
   "metadata": {},
   "outputs": [],
   "source": []
  },
  {
   "cell_type": "markdown",
   "id": "c9907845",
   "metadata": {},
   "source": [
    "### 4.3 &emsp;  Разбор слов в предложении\n",
    "\n",
    "Вводится предложение. Для каждого слова определите, сколько в нём букв. Если оно чётное — выведите само слово и гласные из него, если нечётное — выведите само слово и, через пробел, это количество.\n",
    "\n",
    "_Ввод:_\n",
    "\n",
    "```bash\n",
    "Я обожаю программирование\n",
    "```\n",
    "\n",
    "_Вывод:_\n",
    "\n",
    "```bash\n",
    "Я 1\n",
    "обожаю ооаю\n",
    "программирование оаиоаие\n",
    "```\n",
    "\n",
    "**Pro tip:** возможно, вам понадобится цикл внутри цикла."
   ]
  },
  {
   "cell_type": "code",
   "execution_count": 10,
   "id": "7d991855",
   "metadata": {},
   "outputs": [
    {
     "data": {
      "text/plain": [
       "['Я', 'обожаю', 'программирование']"
      ]
     },
     "execution_count": 10,
     "metadata": {},
     "output_type": "execute_result"
    }
   ],
   "source": [
    "'Я обожаю программирование'.split(' ')"
   ]
  },
  {
   "cell_type": "code",
   "execution_count": 16,
   "id": "169acd2e",
   "metadata": {},
   "outputs": [
    {
     "name": "stdout",
     "output_type": "stream",
     "text": [
      "()Я обожаю программирование\n",
      "Я 1\n",
      "обожаю ооаю\n",
      "программирование оаиоаие\n"
     ]
    }
   ],
   "source": [
    "inp_lst = str(input(())).split(' ')\n",
    "\n",
    "for word in inp_lst:\n",
    "    if len(word) % 2 == 0:\n",
    "        tmp = ''\n",
    "        for i in word:\n",
    "            if i.lower() in 'аоуиыеюё':\n",
    "                tmp += i\n",
    "        print(word + ' ' + tmp)\n",
    "    else:\n",
    "        print(word + ' ' + str(len(word)))"
   ]
  },
  {
   "cell_type": "code",
   "execution_count": 14,
   "id": "0014c726",
   "metadata": {},
   "outputs": [
    {
     "name": "stdout",
     "output_type": "stream",
     "text": [
      "Я обожаю программирование\n",
      "Я 1\n",
      "обожаю\n",
      "ооаю\n",
      "программирование\n",
      "оаиоаие\n"
     ]
    }
   ],
   "source": [
    "a = input().split(' ')\n",
    "vow = [\"а\", \"о\", \"у\", \"и\", \"ы\", \"е\", \"ю\", \"ё\"]\n",
    "for i in a:\n",
    "    if len(i) % 2 == 0:\n",
    "        print(i)\n",
    "        for j in i:\n",
    "            if j in vow:\n",
    "                print(j, sep='', end='')\n",
    "        print('')\n",
    "    else:\n",
    "        print(i, len(i))"
   ]
  },
  {
   "cell_type": "code",
   "execution_count": null,
   "id": "23652531",
   "metadata": {},
   "outputs": [],
   "source": []
  }
 ],
 "metadata": {
  "kernelspec": {
   "display_name": "Python 3",
   "language": "python",
   "name": "python3"
  },
  "language_info": {
   "codemirror_mode": {
    "name": "ipython",
    "version": 3
   },
   "file_extension": ".py",
   "mimetype": "text/x-python",
   "name": "python",
   "nbconvert_exporter": "python",
   "pygments_lexer": "ipython3",
   "version": "3.8.8"
  }
 },
 "nbformat": 4,
 "nbformat_minor": 5
}

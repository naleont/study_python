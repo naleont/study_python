{
 "cells": [
  {
   "cell_type": "markdown",
   "metadata": {
    "id": "cITVlrEfuvgG"
   },
   "source": [
    "<b><font size = \"6\"> Последовательности: списки</font></b>"
   ]
  },
  {
   "cell_type": "markdown",
   "metadata": {
    "id": "yWLqaKV3uvgH"
   },
   "source": [
    "<b>Коллекция</b> - формально место, где хранятся объекты одного или различных типов. Позволяет обращаться к этим объектам, применять специальные функции и методы, зависящие от типа коллекции. Коллекции бывают упорядоченными или неупорядоченными, изменяемыми или изменяемыми. <br> \n",
    "\n",
    "Примеры неизменяемых: строка, кортеж.<br>\n",
    "Примеры изменяемых:  список, словарь. <br>"
   ]
  },
  {
   "cell_type": "markdown",
   "metadata": {
    "id": "z-hIdhwUdCAT"
   },
   "source": [
    "<b><font size = \"5\"> Списки"
   ]
  },
  {
   "cell_type": "markdown",
   "metadata": {
    "id": "LtRnJXhrfxo6"
   },
   "source": [
    "\n",
    "<b>Список</b> - упорядоченная изменяемая коллекция. Доступ к конкретному элементу списка осуществляется по индексу, а также можно добавлять/удалять/изменять элементы списка."
   ]
  },
  {
   "cell_type": "code",
   "execution_count": 1,
   "metadata": {},
   "outputs": [
    {
     "data": {
      "text/plain": [
       "[1, 2, 3]"
      ]
     },
     "execution_count": 1,
     "metadata": {},
     "output_type": "execute_result"
    }
   ],
   "source": [
    "arr = list([1,2,3])\n",
    "arr"
   ]
  },
  {
   "cell_type": "code",
   "execution_count": 5,
   "metadata": {
    "colab": {
     "base_uri": "https://localhost:8080/"
    },
    "executionInfo": {
     "elapsed": 45,
     "status": "ok",
     "timestamp": 1633510144221,
     "user": {
      "displayName": "Кирилл Прокофьев",
      "photoUrl": "https://lh3.googleusercontent.com/a-/AOh14GhmPs9FG_TKIumpBOBikK4LvFL6tTuzevoZ6TrrLUk=s64",
      "userId": "14997335259068094775"
     },
     "user_tz": -180
    },
    "id": "OHxn66vnuvgI",
    "outputId": "a6fb9c2a-fd3d-4eae-f0b1-922ebc96ac10"
   },
   "outputs": [
    {
     "name": "stdout",
     "output_type": "stream",
     "text": [
      "[4, 2, 3, 4, 7, 3]\n"
     ]
    }
   ],
   "source": [
    "array = [1, 2, 3, 4, 5] # создали список\n",
    "\n",
    "array[0] = 4 # изменили  элемент\n",
    "array[-1] += 2 # изменили  элемент\n",
    "\n",
    "array.append(3) # добавили новый элемент\n",
    "print(array)"
   ]
  },
  {
   "cell_type": "markdown",
   "metadata": {},
   "source": [
    "Элементы списка могут быть разного типа"
   ]
  },
  {
   "cell_type": "code",
   "execution_count": 6,
   "metadata": {},
   "outputs": [],
   "source": [
    "ls = [1, True, 'Hello']"
   ]
  },
  {
   "cell_type": "code",
   "execution_count": 9,
   "metadata": {},
   "outputs": [
    {
     "data": {
      "text/plain": [
       "'H'"
      ]
     },
     "execution_count": 9,
     "metadata": {},
     "output_type": "execute_result"
    }
   ],
   "source": [
    "ls[2][0]"
   ]
  },
  {
   "cell_type": "markdown",
   "metadata": {
    "id": "nJVxLpHEuvgR"
   },
   "source": [
    "Список можно создать с помощью генератора списков."
   ]
  },
  {
   "cell_type": "code",
   "execution_count": 10,
   "metadata": {},
   "outputs": [
    {
     "data": {
      "text/plain": [
       "[1, 4, 9, 16, 25, 36]"
      ]
     },
     "execution_count": 10,
     "metadata": {},
     "output_type": "execute_result"
    }
   ],
   "source": [
    "example = []\n",
    "for i in range(1, 7):\n",
    "    example.append(i**2)\n",
    "example"
   ]
  },
  {
   "cell_type": "code",
   "execution_count": 11,
   "metadata": {
    "colab": {
     "base_uri": "https://localhost:8080/"
    },
    "executionInfo": {
     "elapsed": 10,
     "status": "ok",
     "timestamp": 1633517593328,
     "user": {
      "displayName": "Tamara Voznesenskaya",
      "photoUrl": "https://lh3.googleusercontent.com/a/default-user=s64",
      "userId": "04398979884761189215"
     },
     "user_tz": -180
    },
    "id": "9B4d3ro_uvgR",
    "outputId": "d578898f-7071-49b3-8738-80a87d271fed"
   },
   "outputs": [
    {
     "name": "stdout",
     "output_type": "stream",
     "text": [
      "[1, 4, 9, 16, 25, 36]\n"
     ]
    }
   ],
   "source": [
    "example = [i**2 for i in range(1, 7)] # создали список с помощью генератора\n",
    "\n",
    "print(example)\n"
   ]
  },
  {
   "cell_type": "markdown",
   "metadata": {
    "id": "ErnuA2enuvgT"
   },
   "source": [
    "Добавить элемент в конец списка:"
   ]
  },
  {
   "cell_type": "code",
   "execution_count": 12,
   "metadata": {
    "id": "x0QDpZMyuvgU",
    "outputId": "80b9ad3a-5284-4b1e-80de-befecf002cb7"
   },
   "outputs": [
    {
     "data": {
      "text/plain": [
       "[1, 4, 9, 16, 25, 36, 5]"
      ]
     },
     "execution_count": 12,
     "metadata": {},
     "output_type": "execute_result"
    }
   ],
   "source": [
    "example.append(5)\n",
    "example"
   ]
  },
  {
   "cell_type": "markdown",
   "metadata": {
    "id": "OalldurduvgW"
   },
   "source": [
    "Вставить элемент в конкретную позицию списка:"
   ]
  },
  {
   "cell_type": "code",
   "execution_count": 13,
   "metadata": {
    "id": "8ElPT50cuvgW",
    "outputId": "dd7c5946-1a19-4c24-a4e0-1acbe62fd0e1"
   },
   "outputs": [
    {
     "data": {
      "text/plain": [
       "[1, 4, 9, 'New', 16, 25, 36, 5]"
      ]
     },
     "execution_count": 13,
     "metadata": {},
     "output_type": "execute_result"
    }
   ],
   "source": [
    "example.insert(3, 'New')\n",
    "example"
   ]
  },
  {
   "cell_type": "markdown",
   "metadata": {
    "id": "OWH6_n5vuvgY"
   },
   "source": [
    "Удалить последний элемент в списке:"
   ]
  },
  {
   "cell_type": "code",
   "execution_count": 22,
   "metadata": {},
   "outputs": [],
   "source": [
    "example = [1, 4, 9, 'New', 16, 25, 36, 5]"
   ]
  },
  {
   "cell_type": "code",
   "execution_count": 23,
   "metadata": {
    "id": "xx5nc6dQuvgZ",
    "outputId": "a707cccc-d72a-495b-9f62-fac7a4fbeea2"
   },
   "outputs": [
    {
     "data": {
      "text/plain": [
       "([1, 4, 9, 'New', 16, 25, 36], 5)"
      ]
     },
     "execution_count": 23,
     "metadata": {},
     "output_type": "execute_result"
    }
   ],
   "source": [
    "deleted_element = example.pop()\n",
    "example, deleted_element"
   ]
  },
  {
   "cell_type": "markdown",
   "metadata": {
    "id": "y72a213luvgb"
   },
   "source": [
    "Удалить элемент из позиции:"
   ]
  },
  {
   "cell_type": "code",
   "execution_count": 24,
   "metadata": {
    "id": "IUJHgS3Ouvgb",
    "outputId": "442fde61-802a-4ba5-a5d7-8425e3882ba3"
   },
   "outputs": [
    {
     "data": {
      "text/plain": [
       "[1, 4, 9, 'New', 25, 36]"
      ]
     },
     "execution_count": 24,
     "metadata": {},
     "output_type": "execute_result"
    }
   ],
   "source": [
    "del(example[4])\n",
    "example"
   ]
  },
  {
   "cell_type": "code",
   "execution_count": 33,
   "metadata": {},
   "outputs": [
    {
     "data": {
      "text/plain": [
       "[1, 4, 5, 7]"
      ]
     },
     "execution_count": 33,
     "metadata": {},
     "output_type": "execute_result"
    }
   ],
   "source": [
    "example\n",
    "del(example[2::3])\n",
    "example"
   ]
  },
  {
   "cell_type": "markdown",
   "metadata": {},
   "source": [
    "Удаление по значению:"
   ]
  },
  {
   "cell_type": "code",
   "execution_count": 25,
   "metadata": {},
   "outputs": [
    {
     "data": {
      "text/plain": [
       "[1, 4, 9, 25, 36]"
      ]
     },
     "execution_count": 25,
     "metadata": {},
     "output_type": "execute_result"
    }
   ],
   "source": [
    "example.remove('New')\n",
    "example"
   ]
  },
  {
   "cell_type": "markdown",
   "metadata": {
    "id": "QSi7czGyuvgd"
   },
   "source": [
    "Списки тоже поддерживают взятие срезов. <br>"
   ]
  },
  {
   "cell_type": "code",
   "execution_count": 31,
   "metadata": {},
   "outputs": [
    {
     "data": {
      "text/plain": [
       "'lowrd'"
      ]
     },
     "execution_count": 31,
     "metadata": {},
     "output_type": "execute_result"
    }
   ],
   "source": [
    "'hello world'[2::2]"
   ]
  },
  {
   "cell_type": "code",
   "execution_count": 34,
   "metadata": {
    "id": "YRJcDr9nuvgd",
    "outputId": "8b5333a8-aab3-4334-bdec-8559ed8ea563"
   },
   "outputs": [
    {
     "data": {
      "text/plain": [
       "[2, 5, 7]"
      ]
     },
     "execution_count": 34,
     "metadata": {},
     "output_type": "execute_result"
    }
   ],
   "source": [
    "example = [1, 4, 2, 5, 7, 8]\n",
    "example[2:5] # срез от 2 позиции включ. до 5 позиции невключ."
   ]
  },
  {
   "cell_type": "code",
   "execution_count": 28,
   "metadata": {
    "id": "dVEgBdjGuvgg",
    "outputId": "f6b4d673-7e56-45e5-dfa2-b1cdcfb74314"
   },
   "outputs": [
    {
     "data": {
      "text/plain": [
       "[4, 5]"
      ]
     },
     "execution_count": 28,
     "metadata": {},
     "output_type": "execute_result"
    }
   ],
   "source": [
    "example[1:5:2] # срез example[1:5], в котором элементы взяты через один"
   ]
  },
  {
   "cell_type": "code",
   "execution_count": 35,
   "metadata": {},
   "outputs": [
    {
     "data": {
      "text/plain": [
       "[1, 4, 2, 5, 7, 8]"
      ]
     },
     "execution_count": 35,
     "metadata": {},
     "output_type": "execute_result"
    }
   ],
   "source": [
    "example[:]"
   ]
  },
  {
   "cell_type": "code",
   "execution_count": 36,
   "metadata": {
    "id": "utolTk0Quvgi",
    "outputId": "88df3bab-3bf7-4861-b16b-0f0784c2a399"
   },
   "outputs": [
    {
     "data": {
      "text/plain": [
       "[2, 5, 7, 8]"
      ]
     },
     "execution_count": 36,
     "metadata": {},
     "output_type": "execute_result"
    }
   ],
   "source": [
    "example[2:]"
   ]
  },
  {
   "cell_type": "code",
   "execution_count": 37,
   "metadata": {
    "id": "55mZXMbkuvgk",
    "outputId": "eff95d8e-c9f7-41ae-8646-72a1e76d1447",
    "scrolled": true
   },
   "outputs": [
    {
     "data": {
      "text/plain": [
       "[1, 4, 2, 5]"
      ]
     },
     "execution_count": 37,
     "metadata": {},
     "output_type": "execute_result"
    }
   ],
   "source": [
    "example[:4]"
   ]
  },
  {
   "cell_type": "code",
   "execution_count": 38,
   "metadata": {
    "id": "vVkoeSNMuvgm",
    "outputId": "48de687c-ec6f-4554-d81d-47cccc320f30"
   },
   "outputs": [
    {
     "data": {
      "text/plain": [
       "[8, 7, 5, 2]"
      ]
     },
     "execution_count": 38,
     "metadata": {},
     "output_type": "execute_result"
    }
   ],
   "source": [
    "example[5:1:-1]"
   ]
  },
  {
   "cell_type": "markdown",
   "metadata": {
    "id": "UMz_xcMRuvgo"
   },
   "source": [
    "конкатенкация списков:"
   ]
  },
  {
   "cell_type": "code",
   "execution_count": 39,
   "metadata": {},
   "outputs": [
    {
     "data": {
      "text/plain": [
       "'helloworld'"
      ]
     },
     "execution_count": 39,
     "metadata": {},
     "output_type": "execute_result"
    }
   ],
   "source": [
    "\"hello\" + \"world\""
   ]
  },
  {
   "cell_type": "code",
   "execution_count": null,
   "metadata": {},
   "outputs": [],
   "source": [
    "list1 = [1, 2, 3, 4, 5]\n",
    "list2 = [6, 7, 8]"
   ]
  },
  {
   "cell_type": "code",
   "execution_count": 45,
   "metadata": {},
   "outputs": [
    {
     "data": {
      "text/plain": [
       "[1, 2, 3, 4, 5, 6, 7, 8]"
      ]
     },
     "execution_count": 45,
     "metadata": {},
     "output_type": "execute_result"
    }
   ],
   "source": [
    "list1 + list2"
   ]
  },
  {
   "cell_type": "code",
   "execution_count": 46,
   "metadata": {
    "colab": {
     "base_uri": "https://localhost:8080/"
    },
    "executionInfo": {
     "elapsed": 254,
     "status": "ok",
     "timestamp": 1633510487622,
     "user": {
      "displayName": "Tamara Voznesenskaya",
      "photoUrl": "https://lh3.googleusercontent.com/a/default-user=s64",
      "userId": "04398979884761189215"
     },
     "user_tz": -180
    },
    "id": "sdP4usTRuvgo",
    "outputId": "b2edd066-3dc1-46cf-e46a-a4af577b342d"
   },
   "outputs": [
    {
     "data": {
      "text/plain": [
       "[1, 2, 3, 4, 5, 6, 7, 8]"
      ]
     },
     "execution_count": 46,
     "metadata": {},
     "output_type": "execute_result"
    }
   ],
   "source": [
    "list1 += list2\n",
    "list1"
   ]
  },
  {
   "cell_type": "code",
   "execution_count": 43,
   "metadata": {},
   "outputs": [
    {
     "data": {
      "text/plain": [
       "[1, 2, 3, 4, 5, 6, 7, 8, 3]"
      ]
     },
     "execution_count": 43,
     "metadata": {},
     "output_type": "execute_result"
    }
   ],
   "source": [
    "list1 + [3]"
   ]
  },
  {
   "cell_type": "markdown",
   "metadata": {
    "id": "_AQaUZiOuvgq"
   },
   "source": [
    "Список можно умножить на целое число:"
   ]
  },
  {
   "cell_type": "code",
   "execution_count": 47,
   "metadata": {},
   "outputs": [
    {
     "data": {
      "text/plain": [
       "'hellohellohello'"
      ]
     },
     "execution_count": 47,
     "metadata": {},
     "output_type": "execute_result"
    }
   ],
   "source": [
    "\"hello\" * 3"
   ]
  },
  {
   "cell_type": "code",
   "execution_count": 48,
   "metadata": {
    "colab": {
     "base_uri": "https://localhost:8080/"
    },
    "executionInfo": {
     "elapsed": 231,
     "status": "ok",
     "timestamp": 1633510490557,
     "user": {
      "displayName": "Tamara Voznesenskaya",
      "photoUrl": "https://lh3.googleusercontent.com/a/default-user=s64",
      "userId": "04398979884761189215"
     },
     "user_tz": -180
    },
    "id": "tQLkkWL7uvgr",
    "outputId": "3b055099-9fd7-4e96-e076-4796a793bc61"
   },
   "outputs": [
    {
     "data": {
      "text/plain": [
       "[1, 2, 3, 4, 5, 6, 7, 8, 1, 2, 3, 4, 5, 6, 7, 8, 1, 2, 3, 4, 5, 6, 7, 8]"
      ]
     },
     "execution_count": 48,
     "metadata": {},
     "output_type": "execute_result"
    }
   ],
   "source": [
    "list1 *= 3\n",
    "list1"
   ]
  },
  {
   "cell_type": "markdown",
   "metadata": {
    "id": "OLRIwOqPuvgt"
   },
   "source": [
    "По списку можно итерироваться несколькими способами. Можно задать цикл и пройтись по соответствующим позициям:"
   ]
  },
  {
   "cell_type": "code",
   "execution_count": 53,
   "metadata": {
    "id": "B2C-LmIIuvgt",
    "outputId": "926a5e94-3f60-4d70-fb61-4eda04726d3e"
   },
   "outputs": [
    {
     "name": "stdout",
     "output_type": "stream",
     "text": [
      "0 3\n",
      "1 5\n",
      "2 24\n",
      "3 646\n",
      "4 7\n",
      "####\n",
      "3 3\n",
      "5 5\n",
      "24 24\n",
      "646 646\n",
      "7 7\n"
     ]
    }
   ],
   "source": [
    "example = [3, 5, 24, 646, 7]\n",
    "\n",
    "# вариант 1: по индексам\n",
    "for i in range(len(example)):\n",
    "    print(str(i) + \" \" + str(example[i]))\n",
    "\n",
    "print(\"####\")\n",
    "\n",
    "# вариант 2: по значениям\n",
    "for item in example:\n",
    "    print(str(item) + ' ' + str(item))"
   ]
  },
  {
   "cell_type": "markdown",
   "metadata": {
    "id": "_d5DwxD5uvgv"
   },
   "source": [
    "А можно использовать конструкцию for x in list:, в которой x поочерёдно будет \"пробегать\" элементы списка:"
   ]
  },
  {
   "cell_type": "code",
   "execution_count": 54,
   "metadata": {
    "colab": {
     "base_uri": "https://localhost:8080/"
    },
    "executionInfo": {
     "elapsed": 220,
     "status": "ok",
     "timestamp": 1633510589185,
     "user": {
      "displayName": "Tamara Voznesenskaya",
      "photoUrl": "https://lh3.googleusercontent.com/a/default-user=s64",
      "userId": "04398979884761189215"
     },
     "user_tz": -180
    },
    "id": "BlQWWO87uvgv",
    "outputId": "2eb2ba8f-4bf3-4bb4-8adc-8fd759821dc8"
   },
   "outputs": [
    {
     "name": "stdout",
     "output_type": "stream",
     "text": [
      "hi\n",
      "5\n",
      "6\n",
      "ttt\n"
     ]
    }
   ],
   "source": [
    "example = ['hi', 5, 6, 'ttt']\n",
    "for x in example:\n",
    "    print(x)"
   ]
  },
  {
   "cell_type": "markdown",
   "metadata": {},
   "source": [
    "Вывод в одну строчку"
   ]
  },
  {
   "cell_type": "code",
   "execution_count": 55,
   "metadata": {},
   "outputs": [
    {
     "name": "stdout",
     "output_type": "stream",
     "text": [
      "hi 5 6 ttt\n"
     ]
    }
   ],
   "source": [
    "example = ['hi', 5, 6, 'ttt']\n",
    "print(*example)"
   ]
  },
  {
   "cell_type": "markdown",
   "metadata": {},
   "source": [
    "### Преобразование в список строк"
   ]
  },
  {
   "cell_type": "code",
   "execution_count": 56,
   "metadata": {},
   "outputs": [
    {
     "data": {
      "text/plain": [
       "['h', 'e', 'l', 'l', 'o']"
      ]
     },
     "execution_count": 56,
     "metadata": {},
     "output_type": "execute_result"
    }
   ],
   "source": [
    "list(\"hello\")"
   ]
  },
  {
   "cell_type": "code",
   "execution_count": 57,
   "metadata": {},
   "outputs": [
    {
     "data": {
      "text/plain": [
       "[]"
      ]
     },
     "execution_count": 57,
     "metadata": {},
     "output_type": "execute_result"
    }
   ],
   "source": [
    "list(\"\")"
   ]
  },
  {
   "cell_type": "code",
   "execution_count": 58,
   "metadata": {},
   "outputs": [
    {
     "data": {
      "text/plain": [
       "0"
      ]
     },
     "execution_count": 58,
     "metadata": {},
     "output_type": "execute_result"
    }
   ],
   "source": [
    "len([])"
   ]
  },
  {
   "cell_type": "code",
   "execution_count": 59,
   "metadata": {},
   "outputs": [
    {
     "data": {
      "text/plain": [
       "0"
      ]
     },
     "execution_count": 59,
     "metadata": {},
     "output_type": "execute_result"
    }
   ],
   "source": [
    "len(list(\"\"))"
   ]
  },
  {
   "cell_type": "markdown",
   "metadata": {},
   "source": [
    "**Сортировка, минимум, максимум**"
   ]
  },
  {
   "cell_type": "code",
   "execution_count": 60,
   "metadata": {},
   "outputs": [],
   "source": [
    "age = [18, 19, 20, 18, 20, 21, 19]"
   ]
  },
  {
   "cell_type": "code",
   "execution_count": 61,
   "metadata": {},
   "outputs": [
    {
     "data": {
      "text/plain": [
       "18"
      ]
     },
     "execution_count": 61,
     "metadata": {},
     "output_type": "execute_result"
    }
   ],
   "source": [
    "min(age)"
   ]
  },
  {
   "cell_type": "code",
   "execution_count": 62,
   "metadata": {},
   "outputs": [
    {
     "data": {
      "text/plain": [
       "21"
      ]
     },
     "execution_count": 62,
     "metadata": {},
     "output_type": "execute_result"
    }
   ],
   "source": [
    "max(age)"
   ]
  },
  {
   "cell_type": "code",
   "execution_count": 63,
   "metadata": {},
   "outputs": [
    {
     "data": {
      "text/plain": [
       "3"
      ]
     },
     "execution_count": 63,
     "metadata": {},
     "output_type": "execute_result"
    }
   ],
   "source": [
    "max(age)-min(age)"
   ]
  },
  {
   "cell_type": "code",
   "execution_count": 64,
   "metadata": {},
   "outputs": [
    {
     "data": {
      "text/plain": [
       "135"
      ]
     },
     "execution_count": 64,
     "metadata": {},
     "output_type": "execute_result"
    }
   ],
   "source": [
    "sum(age)"
   ]
  },
  {
   "cell_type": "code",
   "execution_count": 65,
   "metadata": {},
   "outputs": [
    {
     "data": {
      "text/plain": [
       "19.285714285714285"
      ]
     },
     "execution_count": 65,
     "metadata": {},
     "output_type": "execute_result"
    }
   ],
   "source": [
    "sum(age)/len(age)"
   ]
  },
  {
   "cell_type": "code",
   "execution_count": 66,
   "metadata": {},
   "outputs": [
    {
     "data": {
      "text/plain": [
       "[18, 18, 19, 19, 20, 20, 21]"
      ]
     },
     "execution_count": 66,
     "metadata": {},
     "output_type": "execute_result"
    }
   ],
   "source": [
    "age_sorted = sorted(age)\n",
    "age_sorted"
   ]
  },
  {
   "cell_type": "code",
   "execution_count": 67,
   "metadata": {},
   "outputs": [
    {
     "data": {
      "text/plain": [
       "[21, 20, 20, 19, 19, 18, 18]"
      ]
     },
     "execution_count": 67,
     "metadata": {},
     "output_type": "execute_result"
    }
   ],
   "source": [
    "age_sorted2 = sorted(age, reverse=True)\n",
    "age_sorted2"
   ]
  },
  {
   "cell_type": "markdown",
   "metadata": {},
   "source": [
    "## Паттерны работы со списками"
   ]
  },
  {
   "cell_type": "markdown",
   "metadata": {},
   "source": [
    "### 1. Фильтрация\n",
    "Бывает так, что среди данных есть нужные и не нужные нам.\n",
    "Например, для анализа активности пользователя в соцсетях нам могут быть важны только его сообщения в выгрузке всей переписки.\n",
    "\n",
    "Обычно удобно сначала собрать себе рабочий набор с только нужными объектами данных, а потом уже его анализировать. Например:\n",
    "```python\n",
    "def sender(message):\n",
    "    if ':' in message:\n",
    "        res = message.split(\":\")[0]\n",
    "    else:\n",
    "        res = \"UNK\"\n",
    "    return res\n",
    "\n",
    "messages_f = open(\"messages.txt\")\n",
    "\n",
    "# фильтрация происходит ниже\n",
    "messages_to_analyze = []\n",
    "for line in messages_f:\n",
    "    if sender(line) == \"oserikov\":\n",
    "        messages.append(line)\n",
    "```\n",
    "\n",
    "### 2. Агрегация\n",
    "Бывает так, что по коллекции данных интересна какая-то статистика. Средняя длина сообщения пользователя, например. В таком случае стоит завести отдельный массив для статистики рядом с коллекцией данных, а затем наполнить её значением после прохода по данным.\n",
    "\n",
    "Заметьте, что средняя длина не так-то просто сходу вычисляется накопительно. Но она легко получается из двух накопительных статистик: суммы длин сообщений и количества сообщений.\n",
    "\n",
    "\n",
    "Например:\n",
    "```python\n",
    "messages_f = open(\"messages.txt\")\n",
    "\n",
    "# аггрегация происходит ниже\n",
    "n_msgs = 0\n",
    "sum_len = 0\n",
    "for line in messages_f:\n",
    "    n_msgs += 1\n",
    "    sum_len += len(line)\n",
    "\n",
    "\n",
    "avg_len = sum_len / n_msgs  # только в реальном мире стоит уберечься от деления на ноль\n",
    "```\n",
    "\n",
    "### 3. Отображение\n",
    "Бывает так, что на основании коллекции данных стоит получить какую-то новую коллекцию. \n",
    "В таком случае стоит понять, какое превращение должно происходить с каждым элементом такой коллекции, а затем обобщить это превращение на несколько элементов.\n",
    "\n",
    "Например, мы хотим перебрать все сообщения, в которых мы видим какую-то грусть и отдельно их проработать\n",
    "\n",
    "\n",
    "```python\n",
    "messages_f = open(\"messages.txt\")\n",
    "\n",
    "# отображение происходит ниже\n",
    "messages_analyzed = []\n",
    "for line in messages_f:\n",
    "    message_sad = \"редиска\" in line or \":(\" in line\n",
    "    messages_analyzed.append(message_sad)\n",
    "\n",
    "```"
   ]
  },
  {
   "cell_type": "code",
   "execution_count": null,
   "metadata": {},
   "outputs": [],
   "source": []
  }
 ],
 "metadata": {
  "colab": {
   "name": "списки и кортежи.ipynb",
   "provenance": []
  },
  "kernelspec": {
   "display_name": "Python 3",
   "language": "python",
   "name": "python3"
  },
  "language_info": {
   "codemirror_mode": {
    "name": "ipython",
    "version": 3
   },
   "file_extension": ".py",
   "mimetype": "text/x-python",
   "name": "python",
   "nbconvert_exporter": "python",
   "pygments_lexer": "ipython3",
   "version": "3.8.8"
  }
 },
 "nbformat": 4,
 "nbformat_minor": 1
}
